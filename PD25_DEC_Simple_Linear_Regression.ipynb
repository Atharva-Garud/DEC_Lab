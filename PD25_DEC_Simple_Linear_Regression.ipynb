{
  "nbformat": 4,
  "nbformat_minor": 0,
  "metadata": {
    "colab": {
      "provenance": [],
      "authorship_tag": "ABX9TyMMdCwv7AjuY8rLvan/XnWQ",
      "include_colab_link": true
    },
    "kernelspec": {
      "name": "python3",
      "display_name": "Python 3"
    },
    "language_info": {
      "name": "python"
    }
  },
  "cells": [
    {
      "cell_type": "markdown",
      "metadata": {
        "id": "view-in-github",
        "colab_type": "text"
      },
      "source": [
        "<a href=\"https://colab.research.google.com/github/Atharva-Garud/DEC_Lab/blob/main/PD25_DEC_Simple_Linear_Regression.ipynb\" target=\"_parent\"><img src=\"https://colab.research.google.com/assets/colab-badge.svg\" alt=\"Open In Colab\"/></a>"
      ]
    },
    {
      "cell_type": "markdown",
      "source": [
        "**Simple Linear Regression**"
      ],
      "metadata": {
        "id": "2TCflK064Pr1"
      }
    },
    {
      "cell_type": "code",
      "source": [
        "import pandas as pd\n",
        "from sklearn.linear_model import LinearRegression\n",
        "import matplotlib.pyplot as plt\n",
        "\n",
        "data = [[1, 1], [2, 3], [4, 3], [3, 2], [5, 5]]\n",
        "df = pd.DataFrame(data, columns=['x', 'y'])\n",
        "\n",
        "X = df[['x']]\n",
        "y = df['y']\n",
        "\n",
        "\n",
        "model = LinearRegression()\n",
        "\n",
        "model.fit(X, y)\n",
        "\n",
        "slope = model.coef_[0]\n",
        "intercept = model.intercept_\n",
        "\n",
        "print(f\"Slope: {slope}\")\n",
        "print(f\"Intercept: {intercept}\")\n",
        "\n",
        "y_pred = model.predict(X)\n",
        "\n",
        "plt.scatter(X, y, label='Actual data points')\n",
        "plt.plot(X, y_pred, color='red', label='Regression line')\n",
        "plt.xlabel('X')\n",
        "plt.ylabel('y')\n",
        "plt.title('Simple Linear Regression')\n",
        "plt.legend()\n",
        "plt.show()"
      ],
      "metadata": {
        "colab": {
          "base_uri": "https://localhost:8080/",
          "height": 509
        },
        "id": "ovnGffdoA4Dn",
        "outputId": "caa6ecd5-4298-4f35-8952-aadc294b33d7"
      },
      "execution_count": 21,
      "outputs": [
        {
          "output_type": "stream",
          "name": "stdout",
          "text": [
            "Slope: 0.7999999999999999\n",
            "Intercept: 0.3999999999999999\n"
          ]
        },
        {
          "output_type": "display_data",
          "data": {
            "text/plain": [
              "<Figure size 640x480 with 1 Axes>"
            ],
            "image/png": "[encoded data removed]"
          },
          "metadata": {}
        }
      ]
    },
    {
      "cell_type": "markdown",
      "source": [
        "\n",
        "\n",
        "---\n",
        "\n"
      ],
      "metadata": {
        "id": "0nD-kIxnBKjB"
      }
    },
    {
      "cell_type": "markdown",
      "source": [
        "**Splitting the data into Train and Test**"
      ],
      "metadata": {
        "id": "t2RwS71iBKcp"
      }
    },
    {
      "cell_type": "code",
      "source": [
        "import pandas as pd\n",
        "from sklearn.model_selection import train_test_split\n",
        "\n",
        "data = [[1, 1], [2, 3], [4, 3], [3, 2], [5, 5]]\n",
        "df = pd.DataFrame(data, columns=['x', 'y'])\n",
        "\n",
        "X = df[['x']]\n",
        "y = df['y']\n",
        "\n",
        "X_train, X_test, y_train, y_test = train_test_split(X, y, test_size=0.2, random_state=42)\n",
        "\n",
        "print(\"Training Set:\")\n",
        "print(pd.concat([X_train, y_train], axis=1))\n",
        "\n",
        "print(\"\\nTesting Set:\")\n",
        "print(pd.concat([X_test, y_test], axis=1))"
      ],
      "metadata": {
        "colab": {
          "base_uri": "https://localhost:8080/"
        },
        "id": "tE-Yx6WPBKC6",
        "outputId": "6cdb7c70-d858-42b9-a67c-9640226535ec"
      },
      "execution_count": 22,
      "outputs": [
        {
          "output_type": "stream",
          "name": "stdout",
          "text": [
            "Training Set:\n",
            "   x  y\n",
            "4  5  5\n",
            "2  4  3\n",
            "0  1  1\n",
            "3  3  2\n",
            "\n",
            "Testing Set:\n",
            "   x  y\n",
            "1  2  3\n"
          ]
        }
      ]
    },
    {
      "cell_type": "markdown",
      "source": [
        "\n",
        "\n",
        "---\n",
        "\n"
      ],
      "metadata": {
        "id": "LM7qZbskBRLB"
      }
    },
    {
      "cell_type": "markdown",
      "source": [
        "**Root Mean Squared Error**"
      ],
      "metadata": {
        "id": "MRf67wEcBRE5"
      }
    },
    {
      "cell_type": "code",
      "source": [
        "import numpy as np\n",
        "import pandas as pd\n",
        "\n",
        "def calculate_rmse(df, true_col, pred_col):\n",
        "\n",
        "    y_true = df[true_col]\n",
        "    y_pred = df[pred_col]\n",
        "\n",
        "    y_true = np.array(y_true)\n",
        "    y_pred = np.array(y_pred)\n",
        "\n",
        "    if len(y_true) != len(y_pred):\n",
        "        raise ValueError(\"Input arrays must have the same length.\")\n",
        "\n",
        "    squared_diff = (y_true - y_pred) ** 2\n",
        "\n",
        "    mse = np.mean(squared_diff)\n",
        "\n",
        "    rmse = np.sqrt(mse)\n",
        "\n",
        "    print(f'mse: {mse}')\n",
        "\n",
        "    return rmse\n",
        "\n",
        "rmse = calculate_rmse(df, 'x', 'y')\n",
        "print(\"Root Mean Squared Error:\", rmse)"
      ],
      "metadata": {
        "colab": {
          "base_uri": "https://localhost:8080/"
        },
        "id": "D_2WvowBBQ3Y",
        "outputId": "afb1d6ce-cb45-4892-a3a3-30631ce14534"
      },
      "execution_count": 31,
      "outputs": [
        {
          "output_type": "stream",
          "name": "stdout",
          "text": [
            "mse: 0.6\n",
            "Root Mean Squared Error: 0.7745966692414834\n"
          ]
        }
      ]
    },
    {
      "cell_type": "markdown",
      "source": [
        "\n",
        "\n",
        "---\n",
        "\n"
      ],
      "metadata": {
        "id": "oJs66-9IBfUg"
      }
    },
    {
      "cell_type": "markdown",
      "source": [
        "**Evaluate regression alsorithm**"
      ],
      "metadata": {
        "id": "-RWa8LXDBfLQ"
      }
    },
    {
      "cell_type": "code",
      "source": [
        "import pandas as pd\n",
        "from sklearn.model_selection import train_test_split\n",
        "from sklearn.linear_model import LinearRegression\n",
        "from sklearn.metrics import r2_score\n",
        "\n",
        "def evaluate_regression_algorithm(data, features_col, target_col, test_size=0.2, random_state=42):\n",
        "\n",
        "    X = data[features_col]\n",
        "    y = data[target_col]\n",
        "\n",
        "    X_train, X_test, y_train, y_test = train_test_split(X, y, test_size=test_size, random_state=random_state)\n",
        "\n",
        "    model = LinearRegression()\n",
        "\n",
        "    model.fit(X_train, y_train)\n",
        "\n",
        "    y_pred_train = model.predict(X_train)\n",
        "\n",
        "    r2 = r2_score(y_train, y_pred_train)\n",
        "\n",
        "    print(f'R-squared (R2): {r2}')\n",
        "\n",
        "    return r2\n",
        "\n",
        "data = [[1, 1], [2, 3], [4, 3], [3, 2], [5, 5]]\n",
        "df = pd.DataFrame(data, columns=['x', 'y'])\n",
        "rmse = calculate_rmse(df, 'x', 'y')\n",
        "print(\"Root Mean Squared Error:\", rmse)\n",
        "evaluate_regression_algorithm(df, features_col=['x'], target_col='y')"
      ],
      "metadata": {
        "colab": {
          "base_uri": "https://localhost:8080/"
        },
        "id": "L4-h-rLOBiFJ",
        "outputId": "f0866921-b839-4442-c036-530b9d9d6248"
      },
      "execution_count": 38,
      "outputs": [
        {
          "output_type": "stream",
          "name": "stdout",
          "text": [
            "mse: 0.6\n",
            "Root Mean Squared Error: 0.7745966692414834\n",
            "R-squared (R2): 0.8889795918367348\n"
          ]
        },
        {
          "output_type": "execute_result",
          "data": {
            "text/plain": [
              "0.8889795918367348"
            ]
          },
          "metadata": {},
          "execution_count": 38
        }
      ]
    },
    {
      "cell_type": "markdown",
      "source": [
        "\n",
        "\n",
        "---\n",
        "\n"
      ],
      "metadata": {
        "id": "pnuRqoiRDqUQ"
      }
    },
    {
      "cell_type": "markdown",
      "source": [
        "**Mean**"
      ],
      "metadata": {
        "id": "6TuJgVo2DqNv"
      }
    },
    {
      "cell_type": "code",
      "source": [
        "def calculate_mean(data):\n",
        "\n",
        "    means = {}\n",
        "\n",
        "    for col in data.columns:\n",
        "        column_data = data[col].tolist()\n",
        "\n",
        "        mean = sum(column_data) / len(column_data)\n",
        "        means[col] = mean\n",
        "\n",
        "    return means\n",
        "\n",
        "means = calculate_mean(df)\n",
        "print(\"Means:\", means)"
      ],
      "metadata": {
        "colab": {
          "base_uri": "https://localhost:8080/"
        },
        "id": "gSAx-u_RDp_-",
        "outputId": "3f1dc7ce-2f77-49e5-c637-5aec625e8e0e"
      },
      "execution_count": 47,
      "outputs": [
        {
          "output_type": "stream",
          "name": "stdout",
          "text": [
            "Means: {'x': 3.0, 'y': 2.8}\n"
          ]
        }
      ]
    },
    {
      "cell_type": "markdown",
      "source": [
        "\n",
        "\n",
        "---\n",
        "\n"
      ],
      "metadata": {
        "id": "HlqS3lSTETs-"
      }
    },
    {
      "cell_type": "markdown",
      "source": [
        "**Variances**"
      ],
      "metadata": {
        "id": "cFaxXMnKETlw"
      }
    },
    {
      "cell_type": "code",
      "source": [
        "def calculate_variance(data):\n",
        "\n",
        "\n",
        "    variances = {}\n",
        "\n",
        "    for col in data.columns:\n",
        "        column_data = data[col].tolist()\n",
        "\n",
        "        if len(column_data) < 2:\n",
        "            raise ValueError(f\"Column '{col}' should have at least two elements to calculate variance.\")\n",
        "\n",
        "        mean = sum(column_data) / len(column_data)\n",
        "        sum_squared_diff = sum((x - mean) ** 2 for x in column_data)\n",
        "        variance = sum_squared_diff / (len(column_data))\n",
        "\n",
        "        variances[col] = variance\n",
        "\n",
        "    return variances\n",
        "\n",
        "variances = calculate_variance(df)\n",
        "print(\"Variances:\", variances)"
      ],
      "metadata": {
        "colab": {
          "base_uri": "https://localhost:8080/"
        },
        "id": "xRxNmmsZEUFP",
        "outputId": "6b93a32f-ac24-4bdf-ff42-3d6a1be5bf1e"
      },
      "execution_count": 46,
      "outputs": [
        {
          "output_type": "stream",
          "name": "stdout",
          "text": [
            "Variances: {'x': 2.0, 'y': 1.7600000000000002}\n"
          ]
        }
      ]
    },
    {
      "cell_type": "markdown",
      "source": [
        "\n",
        "\n",
        "---\n",
        "\n"
      ],
      "metadata": {
        "id": "e4G50ut8E8W5"
      }
    },
    {
      "cell_type": "markdown",
      "source": [
        "**Covariance between x and y**"
      ],
      "metadata": {
        "id": "pJoTDtfVE8no"
      }
    },
    {
      "cell_type": "code",
      "source": [
        "def calculate_covariance(data, x_col, y_col):\n",
        "\n",
        "    # Check if the input DataFrame is empty\n",
        "    if data.empty:\n",
        "        raise ValueError(\"Input DataFrame is empty.\")\n",
        "\n",
        "    x_data = data[x_col].tolist()\n",
        "    y_data = data[y_col].tolist()\n",
        "\n",
        "    mean_x = sum(x_data) / len(x_data)\n",
        "    mean_y = sum(y_data) / len(y_data)\n",
        "\n",
        "    covariance = sum((x - mean_x) * (y - mean_y) for x, y in zip(x_data, y_data)) / (len(x_data))\n",
        "\n",
        "    return covariance\n",
        "\n",
        "covariance_xy = calculate_covariance(df, 'x', 'y')\n",
        "print(\"Covariance between x and y:\", covariance_xy)"
      ],
      "metadata": {
        "colab": {
          "base_uri": "https://localhost:8080/"
        },
        "id": "a1Vhaz_pE9AJ",
        "outputId": "5b72d646-7097-43ad-d66a-efa9eef70123"
      },
      "execution_count": 48,
      "outputs": [
        {
          "output_type": "stream",
          "name": "stdout",
          "text": [
            "Covariance between x and y: 1.6\n"
          ]
        }
      ]
    },
    {
      "cell_type": "markdown",
      "source": [
        "\n",
        "\n",
        "---\n",
        "\n"
      ],
      "metadata": {
        "id": "ROjvYw7AFdhP"
      }
    },
    {
      "cell_type": "markdown",
      "source": [
        "**Coefficients(B0, B1)**"
      ],
      "metadata": {
        "id": "rNJU4PN-FdzY"
      }
    },
    {
      "cell_type": "code",
      "source": [
        "def calculate_regression_coefficients(data, x_col, y_col):\n",
        "\n",
        "    x_data = data[x_col].tolist()\n",
        "    y_data = data[y_col].tolist()\n",
        "\n",
        "    mean_x = sum(x_data) / len(x_data)\n",
        "    mean_y = sum(y_data) / len(y_data)\n",
        "\n",
        "    numerator = sum((x - mean_x) * (y - mean_y) for x, y in zip(x_data, y_data))\n",
        "    denominator = sum((x - mean_x) ** 2 for x in x_data)\n",
        "\n",
        "    B1 = numerator / denominator\n",
        "    B0 = mean_y - B1 * mean_x\n",
        "\n",
        "    return B0, B1\n",
        "\n",
        "B0, B1 = calculate_regression_coefficients(df, 'x', 'y')\n",
        "print(\"Intercept (B0):\", B0)\n",
        "print(\"Slope (B1):\", B1)"
      ],
      "metadata": {
        "colab": {
          "base_uri": "https://localhost:8080/"
        },
        "id": "cg4f-Pz6FeC3",
        "outputId": "9e987cf7-8d19-4791-cc6b-0dabec49b4e0"
      },
      "execution_count": 49,
      "outputs": [
        {
          "output_type": "stream",
          "name": "stdout",
          "text": [
            "Intercept (B0): 0.39999999999999947\n",
            "Slope (B1): 0.8\n"
          ]
        }
      ]
    }
  ]
}